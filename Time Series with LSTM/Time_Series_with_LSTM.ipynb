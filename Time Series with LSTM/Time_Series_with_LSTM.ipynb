{
  "nbformat": 4,
  "nbformat_minor": 0,
  "metadata": {
    "colab": {
      "provenance": []
    },
    "kernelspec": {
      "name": "python3",
      "display_name": "Python 3"
    },
    "language_info": {
      "name": "python"
    }
  },
  "cells": [
    {
      "cell_type": "markdown",
      "source": [
        "##What is Time Series Forecasting?"
      ],
      "metadata": {
        "id": "HyljbqXxe3oJ"
      }
    },
    {
      "cell_type": "markdown",
      "source": [
        "####Time series forecasting is a technique for predicting events through a time sequence. The technique is used in many fields of study, from geology to behaviour to economics. Techniques predict future events by analyzing trends from the past, assuming that future trends will hold similar to historical trends."
      ],
      "metadata": {
        "id": "kE6hVH_4fBDo"
      }
    },
    {
      "cell_type": "markdown",
      "source": [
        "##What is LSTM?\n"
      ],
      "metadata": {
        "id": "yQeYhSRGfERW"
      }
    },
    {
      "cell_type": "markdown",
      "source": [
        "####LSTM stands for Short Term Long Term Memory. It is a model or an architecture that extends the memory of recurrent neural networks. Typically, recurrent neural networks have “short-term memory” in that they use persistent past information for use in the current neural network. Essentially, the previous information is used in the current task. This means that we do not have a list of all of the previous information available for the neural node."
      ],
      "metadata": {
        "id": "kA6YifmJfQoi"
      }
    },
    {
      "cell_type": "code",
      "execution_count": 1,
      "metadata": {
        "id": "e2SvTh_Oeth4"
      },
      "outputs": [],
      "source": [
        "import numpy\n",
        "import matplotlib.pyplot as plt\n",
        "import pandas\n",
        "import math\n",
        "from keras.models import Sequential\n",
        "from keras.layers import Dense\n",
        "from keras.layers import LSTM\n",
        "from sklearn.preprocessing import MinMaxScaler\n",
        "from sklearn.metrics import mean_squared_error\n",
        "# fix random seed for reproducibility\n",
        "numpy.random.seed(7)"
      ]
    },
    {
      "cell_type": "code",
      "source": [
        "# load the dataset\n",
        "dataframe = pandas.read_csv('airline-passengers.csv', usecols=[1], engine='python')\n",
        "dataset = dataframe.values\n",
        "dataset = dataset.astype('float32')\n",
        "# normalize the dataset\n",
        "scaler = MinMaxScaler(feature_range=(0, 1))\n",
        "dataset = scaler.fit_transform(dataset)"
      ],
      "metadata": {
        "id": "_fpibKb3fanY"
      },
      "execution_count": 2,
      "outputs": []
    },
    {
      "cell_type": "code",
      "source": [
        "# split into train and test sets\n",
        "train_size = int(len(dataset) * 0.67)\n",
        "test_size = len(dataset) - train_size\n",
        "train, test = dataset[0:train_size,:], dataset[train_size:len(dataset),:]\n",
        "print(len(train), len(test))"
      ],
      "metadata": {
        "colab": {
          "base_uri": "https://localhost:8080/"
        },
        "id": "tyoe-ficgm1U",
        "outputId": "3c7a54da-4f82-47cf-e921-4b9528f0d610"
      },
      "execution_count": 3,
      "outputs": [
        {
          "output_type": "stream",
          "name": "stdout",
          "text": [
            "96 48\n"
          ]
        }
      ]
    },
    {
      "cell_type": "markdown",
      "source": [
        "###Time Series with LSTM\n"
      ],
      "metadata": {
        "id": "oGlsB4-Fg11T"
      }
    },
    {
      "cell_type": "code",
      "source": [
        "# convert an array of values into a dataset matrix\n",
        "def create_dataset(dataset, look_back=1):\n",
        "\tdataX, dataY = [], []\n",
        "\tfor i in range(len(dataset)-look_back-1):\n",
        "\t\ta = dataset[i:(i+look_back), 0]\n",
        "\t\tdataX.append(a)\n",
        "\t\tdataY.append(dataset[i + look_back, 0])\n",
        "\treturn numpy.array(dataX), numpy.array(dataY)"
      ],
      "metadata": {
        "id": "Ac9c69FDgxR2"
      },
      "execution_count": 4,
      "outputs": []
    },
    {
      "cell_type": "code",
      "source": [
        "# reshape into X=t and Y=t+1\n",
        "look_back = 1\n",
        "trainX, trainY = create_dataset(train, look_back)\n",
        "testX, testY = create_dataset(test, look_back)\n",
        "# reshape input to be [samples, time steps, features]\n",
        "trainX = numpy.reshape(trainX, (trainX.shape[0], 1, trainX.shape[1]))\n",
        "testX = numpy.reshape(testX, (testX.shape[0], 1, testX.shape[1]))"
      ],
      "metadata": {
        "id": "5by-GJikhAKZ"
      },
      "execution_count": 5,
      "outputs": []
    },
    {
      "cell_type": "code",
      "source": [
        "# create and fit the LSTM network\n",
        "model = Sequential()\n",
        "model.add(LSTM(4, input_shape=(1, look_back)))\n",
        "model.add(Dense(1))\n",
        "model.compile(loss='mean_squared_error', optimizer='adam')\n",
        "model.fit(trainX, trainY, epochs=100, batch_size=1, verbose=2)"
      ],
      "metadata": {
        "colab": {
          "base_uri": "https://localhost:8080/"
        },
        "id": "hY97CJ-IhJir",
        "outputId": "4ae5a236-e5e0-4de6-d7fc-1af6ca02f42b"
      },
      "execution_count": 6,
      "outputs": [
        {
          "output_type": "stream",
          "name": "stdout",
          "text": [
            "Epoch 1/100\n",
            "94/94 - 3s - loss: 0.0320 - 3s/epoch - 32ms/step\n",
            "Epoch 2/100\n",
            "94/94 - 0s - loss: 0.0146 - 206ms/epoch - 2ms/step\n",
            "Epoch 3/100\n",
            "94/94 - 0s - loss: 0.0114 - 208ms/epoch - 2ms/step\n",
            "Epoch 4/100\n",
            "94/94 - 0s - loss: 0.0104 - 257ms/epoch - 3ms/step\n",
            "Epoch 5/100\n",
            "94/94 - 0s - loss: 0.0094 - 322ms/epoch - 3ms/step\n",
            "Epoch 6/100\n",
            "94/94 - 0s - loss: 0.0084 - 295ms/epoch - 3ms/step\n",
            "Epoch 7/100\n",
            "94/94 - 0s - loss: 0.0076 - 268ms/epoch - 3ms/step\n",
            "Epoch 8/100\n",
            "94/94 - 0s - loss: 0.0067 - 244ms/epoch - 3ms/step\n",
            "Epoch 9/100\n",
            "94/94 - 0s - loss: 0.0058 - 209ms/epoch - 2ms/step\n",
            "Epoch 10/100\n",
            "94/94 - 0s - loss: 0.0051 - 206ms/epoch - 2ms/step\n",
            "Epoch 11/100\n",
            "94/94 - 0s - loss: 0.0045 - 196ms/epoch - 2ms/step\n",
            "Epoch 12/100\n",
            "94/94 - 0s - loss: 0.0039 - 220ms/epoch - 2ms/step\n",
            "Epoch 13/100\n",
            "94/94 - 0s - loss: 0.0034 - 240ms/epoch - 3ms/step\n",
            "Epoch 14/100\n",
            "94/94 - 0s - loss: 0.0030 - 239ms/epoch - 3ms/step\n",
            "Epoch 15/100\n",
            "94/94 - 0s - loss: 0.0027 - 210ms/epoch - 2ms/step\n",
            "Epoch 16/100\n",
            "94/94 - 0s - loss: 0.0025 - 270ms/epoch - 3ms/step\n",
            "Epoch 17/100\n",
            "94/94 - 0s - loss: 0.0023 - 275ms/epoch - 3ms/step\n",
            "Epoch 18/100\n",
            "94/94 - 0s - loss: 0.0023 - 193ms/epoch - 2ms/step\n",
            "Epoch 19/100\n",
            "94/94 - 0s - loss: 0.0021 - 210ms/epoch - 2ms/step\n",
            "Epoch 20/100\n",
            "94/94 - 0s - loss: 0.0021 - 213ms/epoch - 2ms/step\n",
            "Epoch 21/100\n",
            "94/94 - 0s - loss: 0.0021 - 211ms/epoch - 2ms/step\n",
            "Epoch 22/100\n",
            "94/94 - 0s - loss: 0.0021 - 336ms/epoch - 4ms/step\n",
            "Epoch 23/100\n",
            "94/94 - 0s - loss: 0.0021 - 279ms/epoch - 3ms/step\n",
            "Epoch 24/100\n",
            "94/94 - 0s - loss: 0.0021 - 309ms/epoch - 3ms/step\n",
            "Epoch 25/100\n",
            "94/94 - 0s - loss: 0.0019 - 301ms/epoch - 3ms/step\n",
            "Epoch 26/100\n",
            "94/94 - 0s - loss: 0.0021 - 349ms/epoch - 4ms/step\n",
            "Epoch 27/100\n",
            "94/94 - 0s - loss: 0.0020 - 442ms/epoch - 5ms/step\n",
            "Epoch 28/100\n",
            "94/94 - 0s - loss: 0.0020 - 340ms/epoch - 4ms/step\n",
            "Epoch 29/100\n",
            "94/94 - 0s - loss: 0.0020 - 330ms/epoch - 4ms/step\n",
            "Epoch 30/100\n",
            "94/94 - 0s - loss: 0.0020 - 299ms/epoch - 3ms/step\n",
            "Epoch 31/100\n",
            "94/94 - 0s - loss: 0.0021 - 331ms/epoch - 4ms/step\n",
            "Epoch 32/100\n",
            "94/94 - 0s - loss: 0.0020 - 236ms/epoch - 3ms/step\n",
            "Epoch 33/100\n",
            "94/94 - 0s - loss: 0.0020 - 240ms/epoch - 3ms/step\n",
            "Epoch 34/100\n",
            "94/94 - 0s - loss: 0.0020 - 215ms/epoch - 2ms/step\n",
            "Epoch 35/100\n",
            "94/94 - 0s - loss: 0.0020 - 216ms/epoch - 2ms/step\n",
            "Epoch 36/100\n",
            "94/94 - 0s - loss: 0.0020 - 210ms/epoch - 2ms/step\n",
            "Epoch 37/100\n",
            "94/94 - 0s - loss: 0.0021 - 217ms/epoch - 2ms/step\n",
            "Epoch 38/100\n",
            "94/94 - 0s - loss: 0.0020 - 212ms/epoch - 2ms/step\n",
            "Epoch 39/100\n",
            "94/94 - 0s - loss: 0.0021 - 193ms/epoch - 2ms/step\n",
            "Epoch 40/100\n",
            "94/94 - 0s - loss: 0.0021 - 222ms/epoch - 2ms/step\n",
            "Epoch 41/100\n",
            "94/94 - 0s - loss: 0.0020 - 211ms/epoch - 2ms/step\n",
            "Epoch 42/100\n",
            "94/94 - 0s - loss: 0.0020 - 206ms/epoch - 2ms/step\n",
            "Epoch 43/100\n",
            "94/94 - 0s - loss: 0.0020 - 190ms/epoch - 2ms/step\n",
            "Epoch 44/100\n",
            "94/94 - 0s - loss: 0.0020 - 194ms/epoch - 2ms/step\n",
            "Epoch 45/100\n",
            "94/94 - 0s - loss: 0.0020 - 240ms/epoch - 3ms/step\n",
            "Epoch 46/100\n",
            "94/94 - 0s - loss: 0.0021 - 178ms/epoch - 2ms/step\n",
            "Epoch 47/100\n",
            "94/94 - 0s - loss: 0.0020 - 236ms/epoch - 3ms/step\n",
            "Epoch 48/100\n",
            "94/94 - 0s - loss: 0.0021 - 182ms/epoch - 2ms/step\n",
            "Epoch 49/100\n",
            "94/94 - 0s - loss: 0.0020 - 201ms/epoch - 2ms/step\n",
            "Epoch 50/100\n",
            "94/94 - 0s - loss: 0.0020 - 206ms/epoch - 2ms/step\n",
            "Epoch 51/100\n",
            "94/94 - 0s - loss: 0.0020 - 197ms/epoch - 2ms/step\n",
            "Epoch 52/100\n",
            "94/94 - 0s - loss: 0.0021 - 206ms/epoch - 2ms/step\n",
            "Epoch 53/100\n",
            "94/94 - 0s - loss: 0.0020 - 175ms/epoch - 2ms/step\n",
            "Epoch 54/100\n",
            "94/94 - 0s - loss: 0.0020 - 179ms/epoch - 2ms/step\n",
            "Epoch 55/100\n",
            "94/94 - 0s - loss: 0.0021 - 168ms/epoch - 2ms/step\n",
            "Epoch 56/100\n",
            "94/94 - 0s - loss: 0.0021 - 192ms/epoch - 2ms/step\n",
            "Epoch 57/100\n",
            "94/94 - 0s - loss: 0.0020 - 237ms/epoch - 3ms/step\n",
            "Epoch 58/100\n",
            "94/94 - 0s - loss: 0.0020 - 184ms/epoch - 2ms/step\n",
            "Epoch 59/100\n",
            "94/94 - 0s - loss: 0.0020 - 185ms/epoch - 2ms/step\n",
            "Epoch 60/100\n",
            "94/94 - 0s - loss: 0.0020 - 178ms/epoch - 2ms/step\n",
            "Epoch 61/100\n",
            "94/94 - 0s - loss: 0.0020 - 210ms/epoch - 2ms/step\n",
            "Epoch 62/100\n",
            "94/94 - 0s - loss: 0.0020 - 223ms/epoch - 2ms/step\n",
            "Epoch 63/100\n",
            "94/94 - 0s - loss: 0.0020 - 167ms/epoch - 2ms/step\n",
            "Epoch 64/100\n",
            "94/94 - 0s - loss: 0.0021 - 173ms/epoch - 2ms/step\n",
            "Epoch 65/100\n",
            "94/94 - 0s - loss: 0.0020 - 173ms/epoch - 2ms/step\n",
            "Epoch 66/100\n",
            "94/94 - 0s - loss: 0.0020 - 192ms/epoch - 2ms/step\n",
            "Epoch 67/100\n",
            "94/94 - 0s - loss: 0.0020 - 190ms/epoch - 2ms/step\n",
            "Epoch 68/100\n",
            "94/94 - 0s - loss: 0.0020 - 211ms/epoch - 2ms/step\n",
            "Epoch 69/100\n",
            "94/94 - 0s - loss: 0.0021 - 200ms/epoch - 2ms/step\n",
            "Epoch 70/100\n",
            "94/94 - 0s - loss: 0.0021 - 175ms/epoch - 2ms/step\n",
            "Epoch 71/100\n",
            "94/94 - 0s - loss: 0.0020 - 217ms/epoch - 2ms/step\n",
            "Epoch 72/100\n",
            "94/94 - 0s - loss: 0.0020 - 246ms/epoch - 3ms/step\n",
            "Epoch 73/100\n",
            "94/94 - 0s - loss: 0.0020 - 219ms/epoch - 2ms/step\n",
            "Epoch 74/100\n",
            "94/94 - 0s - loss: 0.0020 - 189ms/epoch - 2ms/step\n",
            "Epoch 75/100\n",
            "94/94 - 0s - loss: 0.0020 - 188ms/epoch - 2ms/step\n",
            "Epoch 76/100\n",
            "94/94 - 0s - loss: 0.0020 - 203ms/epoch - 2ms/step\n",
            "Epoch 77/100\n",
            "94/94 - 0s - loss: 0.0020 - 196ms/epoch - 2ms/step\n",
            "Epoch 78/100\n",
            "94/94 - 0s - loss: 0.0020 - 196ms/epoch - 2ms/step\n",
            "Epoch 79/100\n",
            "94/94 - 0s - loss: 0.0020 - 211ms/epoch - 2ms/step\n",
            "Epoch 80/100\n",
            "94/94 - 0s - loss: 0.0020 - 205ms/epoch - 2ms/step\n",
            "Epoch 81/100\n",
            "94/94 - 0s - loss: 0.0020 - 358ms/epoch - 4ms/step\n",
            "Epoch 82/100\n",
            "94/94 - 0s - loss: 0.0020 - 305ms/epoch - 3ms/step\n",
            "Epoch 83/100\n",
            "94/94 - 0s - loss: 0.0020 - 285ms/epoch - 3ms/step\n",
            "Epoch 84/100\n",
            "94/94 - 0s - loss: 0.0021 - 354ms/epoch - 4ms/step\n",
            "Epoch 85/100\n",
            "94/94 - 0s - loss: 0.0020 - 359ms/epoch - 4ms/step\n",
            "Epoch 86/100\n",
            "94/94 - 0s - loss: 0.0020 - 372ms/epoch - 4ms/step\n",
            "Epoch 87/100\n",
            "94/94 - 0s - loss: 0.0020 - 359ms/epoch - 4ms/step\n",
            "Epoch 88/100\n",
            "94/94 - 0s - loss: 0.0020 - 296ms/epoch - 3ms/step\n",
            "Epoch 89/100\n",
            "94/94 - 0s - loss: 0.0020 - 345ms/epoch - 4ms/step\n",
            "Epoch 90/100\n",
            "94/94 - 0s - loss: 0.0020 - 345ms/epoch - 4ms/step\n",
            "Epoch 91/100\n",
            "94/94 - 0s - loss: 0.0020 - 199ms/epoch - 2ms/step\n",
            "Epoch 92/100\n",
            "94/94 - 0s - loss: 0.0020 - 186ms/epoch - 2ms/step\n",
            "Epoch 93/100\n",
            "94/94 - 0s - loss: 0.0020 - 183ms/epoch - 2ms/step\n",
            "Epoch 94/100\n",
            "94/94 - 0s - loss: 0.0020 - 276ms/epoch - 3ms/step\n",
            "Epoch 95/100\n",
            "94/94 - 0s - loss: 0.0020 - 291ms/epoch - 3ms/step\n",
            "Epoch 96/100\n",
            "94/94 - 0s - loss: 0.0020 - 222ms/epoch - 2ms/step\n",
            "Epoch 97/100\n",
            "94/94 - 0s - loss: 0.0020 - 225ms/epoch - 2ms/step\n",
            "Epoch 98/100\n",
            "94/94 - 0s - loss: 0.0020 - 207ms/epoch - 2ms/step\n",
            "Epoch 99/100\n",
            "94/94 - 0s - loss: 0.0020 - 221ms/epoch - 2ms/step\n",
            "Epoch 100/100\n",
            "94/94 - 0s - loss: 0.0020 - 207ms/epoch - 2ms/step\n"
          ]
        },
        {
          "output_type": "execute_result",
          "data": {
            "text/plain": [
              "<keras.src.callbacks.History at 0x7c06384a4c40>"
            ]
          },
          "metadata": {},
          "execution_count": 6
        }
      ]
    },
    {
      "cell_type": "code",
      "source": [
        "# make predictions\n",
        "trainPredict = model.predict(trainX)\n",
        "testPredict = model.predict(testX)\n",
        "# invert predictions\n",
        "trainPredict = scaler.inverse_transform(trainPredict)\n",
        "trainY = scaler.inverse_transform([trainY])\n",
        "testPredict = scaler.inverse_transform(testPredict)\n",
        "testY = scaler.inverse_transform([testY])\n",
        "# calculate root mean squared error\n",
        "trainScore = math.sqrt(mean_squared_error(trainY[0], trainPredict[:,0]))\n",
        "testScore = math.sqrt(mean_squared_error(testY[0], testPredict[:,0]))\n"
      ],
      "metadata": {
        "colab": {
          "base_uri": "https://localhost:8080/"
        },
        "id": "sM-lHlCEhR35",
        "outputId": "b92f4baa-c088-4f94-f864-da795ef6c165"
      },
      "execution_count": 7,
      "outputs": [
        {
          "output_type": "stream",
          "name": "stdout",
          "text": [
            "3/3 [==============================] - 1s 4ms/step\n",
            "2/2 [==============================] - 0s 7ms/step\n"
          ]
        }
      ]
    },
    {
      "cell_type": "code",
      "source": [
        "# shift train predictions for plotting\n",
        "trainPredictPlot = numpy.empty_like(dataset)\n",
        "trainPredictPlot[:, :] = numpy.nan\n",
        "trainPredictPlot[look_back:len(trainPredict)+look_back, :] = trainPredict\n",
        "# shift test predictions for plotting\n",
        "testPredictPlot = numpy.empty_like(dataset)\n",
        "testPredictPlot[:, :] = numpy.nan\n",
        "testPredictPlot[len(trainPredict)+(look_back*2)+1:len(dataset)-1, :] = testPredict\n",
        "# plot baseline and predictions\n",
        "plt.plot(scaler.inverse_transform(dataset))\n",
        "plt.plot(trainPredictPlot)\n",
        "plt.plot(testPredictPlot)\n",
        "plt.show()"
      ],
      "metadata": {
        "colab": {
          "base_uri": "https://localhost:8080/",
          "height": 430
        },
        "id": "oqjJwzNFhqMc",
        "outputId": "388b1be9-f57d-4128-bcf4-e55dd9d34a44"
      },
      "execution_count": 8,
      "outputs": [
        {
          "output_type": "display_data",
          "data": {
            "text/plain": [
              "<Figure size 640x480 with 1 Axes>"
            ],
            "image/png": "[encoded data removed]"
          },
          "metadata": {}
        }
      ]
    },
    {
      "cell_type": "code",
      "source": [],
      "metadata": {
        "id": "cDuMwc_Fhusn"
      },
      "execution_count": null,
      "outputs": []
    }
  ]
}